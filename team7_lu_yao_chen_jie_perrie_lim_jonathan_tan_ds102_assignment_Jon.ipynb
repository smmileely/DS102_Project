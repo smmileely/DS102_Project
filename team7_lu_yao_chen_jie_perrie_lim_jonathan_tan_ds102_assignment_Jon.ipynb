{
 "cells": [
  {
   "cell_type": "markdown",
   "metadata": {},
   "source": [
    "\n",
    "\n",
    "<center><h2>Debunking whether a university’s standing determines the quality of the graduates</h2></center>\n",
    "<hr>\n",
    "\n",
    "### Author(s)\n",
    "\n",
    "- Weng Lu Yao (@luyaoo)\n",
    "\n",
    "- Chen Jie (@chenjie)\n",
    "\n",
    "- Lim En Lye Perrie (@perrielim)\n",
    "\n",
    "- Tan Wei Hao Jonathan (@ilovecebu)\n",
    "\n",
    "Class 19 Jul Sun 3.45pm "
   ]
  },
  {
   "cell_type": "markdown",
   "metadata": {},
   "source": [
    "### Research Topic & Hypothesis\n",
    "\n",
    "Global university ranking seems to be a perennial source of interest for Singaporeans as it is often used as a benchmark to ascertain if universities meet our expectations of world-class status. However, rankings tend to place emphasis on research publications of global significance. There is some skepticism that high university rankings do not cause or even correlate with national economic performance. Also, there is no definitive link to individual student outcomes like post-graduation job placement or salary rates. With the education ministry putting specific resources and areas of study that falls in line with the evolving job market, looking at these areas might be a better predictor of what affects a graduate’s employability. \n",
    "\n",
    "<b>Problem Statement: </b>  To determine if the university standing affects the employment rate and monthly salary.\n",
    "\n",
    "<b>Hypothesis: </b>\n",
    "(1) The university standing does not determine the employment rate and monthly salary;\n",
    "(2) A better predictor of employment rate and monthly salary would be the course of study. \n",
    "\n",
    "\n",
    "\n",
    "\n",
    "<hr>\n",
    "\n",
    "**Articles used:**\n",
    "- Article 1 (https://www.channelnewsasia.com/news/singapore/commentary-the-relentless-pursuit-of-university-rankings-is-9314918) retrieved on 13 Aug 2020\n",
    "- Article 2 (https://news.nus.edu.sg/sites/default/files/resources/news/2018/2018-03/2018-03-01/COMPUTING-st-1mar-pB1-B2.pdf) retrieved on 13 Aug 2020\n",
    "\n",
    "**Datasets used:**\n",
    "- Graduate Employment Survey - NTU, NUS, SIT, SMU, SUSS & SUTD (https://data.gov.sg/dataset/graduate-employment-survey-ntu-nus-sit-smu-suss-sutd) retrieved on 13 Aug 2020\n",
    "\n"
   ]
  },
  {
   "cell_type": "markdown",
   "metadata": {},
   "source": [
    "### Additional Notes to Instructor\n",
    "\n",
    "1. Our group intends to run some simple analysis (ANOVA, Regression) to compare if there are significant differences for the 2 main DVs (i.e employment rate, monthly salary)\n",
    "\n",
    "2. We are considering expanding to US university data set to run regression analysis with the use of university ranking (QS), would this be advised? \n",
    "\n",
    "3. Also considering to see if entry requirements to courses (e.g A level results) can predict employment rate and monthly salary as well.\n",
    "<p style=\"color:red\" hidden=\"true\"><b>Please do not share the findings of this report.</b></p>"
   ]
  },
  {
   "cell_type": "markdown",
   "metadata": {},
   "source": [
    "<h1> Instructor Comments</h1>\n",
    "<p>\n",
    "Your project outline is well structured. I understood the project relatively quickly. Singapore only has 4(5?) AUs, so your data is quite limited (1 datapoint per year per AU). <br/>\n",
    "Expanding to other countries would be a good option, one additional option opened up would be to breakdown the analysis by country (e.g. Does the same trends hold across all countries). <br/>\n",
    "Challenge would be to find GES-equivalent dataset in other countries but I believe I have seen some of them (though not as reliable). \n",
    "\n",
    "</p>"
   ]
  },
  {
   "cell_type": "code",
   "execution_count": null,
   "metadata": {},
   "outputs": [],
   "source": []
  }
 ],
 "metadata": {
  "kernelspec": {
   "display_name": "Python 3",
   "language": "python",
   "name": "python3"
  },
  "language_info": {
   "codemirror_mode": {
    "name": "ipython",
    "version": 3
   },
   "file_extension": ".py",
   "mimetype": "text/x-python",
   "name": "python",
   "nbconvert_exporter": "python",
   "pygments_lexer": "ipython3",
   "version": "3.8.3"
  }
 },
 "nbformat": 4,
 "nbformat_minor": 2
}
