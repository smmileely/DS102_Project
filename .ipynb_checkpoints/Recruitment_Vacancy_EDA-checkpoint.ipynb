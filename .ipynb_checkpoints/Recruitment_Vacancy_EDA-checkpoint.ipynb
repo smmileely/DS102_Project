{
 "cells": [
  {
   "cell_type": "markdown",
   "metadata": {},
   "source": [
    "# Import Libraries"
   ]
  },
  {
   "cell_type": "code",
   "execution_count": 5,
   "metadata": {},
   "outputs": [],
   "source": [
    "import pandas as pd\n",
    "import seaborn as sns\n",
    "import matplotlib.pyplot as plt"
   ]
  },
  {
   "cell_type": "markdown",
   "metadata": {},
   "source": [
    "# Import data"
   ]
  },
  {
   "cell_type": "code",
   "execution_count": 26,
   "metadata": {},
   "outputs": [],
   "source": [
    "Vacancy_L2 = pd.read_csv('job-vacancy-rate-by-industry-level2.csv')\n",
    "Recruitment_Resignation_L2 = pd.read_csv('average-monthly-recruitment-resignation-rate-by-industry-level-2.csv')"
   ]
  },
  {
   "cell_type": "markdown",
   "metadata": {},
   "source": [
    "# Data Cleaning"
   ]
  },
  {
   "cell_type": "markdown",
   "metadata": {},
   "source": [
    "## 1. Inspect Dataframe"
   ]
  },
  {
   "cell_type": "code",
   "execution_count": 27,
   "metadata": {},
   "outputs": [
    {
     "name": "stdout",
     "output_type": "stream",
     "text": [
      "   quarter      industry1                        industry2  job_vacancy_rate\n",
      "0  1990-Q1  manufacturing      food, beverages and tobacco               4.2\n",
      "1  1990-Q1  manufacturing      textile and wearing apparel              14.0\n",
      "2  1990-Q1  manufacturing    paper products and publishing               6.1\n",
      "3  1990-Q1  manufacturing  petroleum and chemical products               4.2\n",
      "4  1990-Q1  manufacturing      rubber and plastic products               7.4\n",
      "   quarter      industry1                        industry2  recruitment_rate  \\\n",
      "0  1990-Q1  manufacturing      food, beverages and tobacco               3.6   \n",
      "1  1990-Q1  manufacturing      textile and wearing apparel               3.6   \n",
      "2  1990-Q1  manufacturing    paper products and publishing               3.9   \n",
      "3  1990-Q1  manufacturing  petroleum and chemical products               2.9   \n",
      "4  1990-Q1  manufacturing      rubber and plastic products               5.2   \n",
      "\n",
      "   resignation_rate  \n",
      "0               3.2  \n",
      "1               4.5  \n",
      "2               3.5  \n",
      "3               2.5  \n",
      "4               5.3  \n",
      "['food, beverages and tobacco' 'textile and wearing apparel'\n",
      " 'paper products and publishing' 'petroleum and chemical products'\n",
      " 'rubber and plastic products' 'fabricated metal products'\n",
      " 'machinery and equipment' 'electrical products' 'electronic products'\n",
      " 'medical and precision instruments' 'transport equipment'\n",
      " 'other manufacturing industries' 'construction'\n",
      " 'wholesale and retail trade' 'hotels and restaurants'\n",
      " 'transport, storage and communications' 'financial intermediation'\n",
      " 'business and real estate services'\n",
      " 'community, social and personal services' 'others'\n",
      " 'paper products and printing'\n",
      " 'petroleum, chemical and pharmaceutical products' 'transport and storage'\n",
      " 'information and communications' 'financial services'\n",
      " 'real estate and leasing services' 'professional services'\n",
      " 'administrative and support services'\n",
      " 'paper,rubber,plastic products and printing'\n",
      " 'fabricated metal products, machinery and equipment'\n",
      " 'electronic, computer and optical products' 'transportation and storage'\n",
      " 'accommodation and food services' 'financial and insurance services'\n",
      " 'real estate services']\n"
     ]
    }
   ],
   "source": [
    "print(Vacancy_L2.head())\n",
    "print(Recruitment_Resignation_L2.head())\n",
    "print(Recruitment_Resignation_L2['industry2'].unique())"
   ]
  },
  {
   "cell_type": "markdown",
   "metadata": {},
   "source": [
    "## 2. Check for missing data"
   ]
  },
  {
   "cell_type": "code",
   "execution_count": 29,
   "metadata": {},
   "outputs": [
    {
     "name": "stdout",
     "output_type": "stream",
     "text": [
      "quarter             0\n",
      "industry1           0\n",
      "industry2           0\n",
      "recruitment_rate    0\n",
      "resignation_rate    0\n",
      "dtype: int64\n",
      "quarter             0\n",
      "industry1           0\n",
      "industry2           0\n",
      "recruitment_rate    0\n",
      "resignation_rate    0\n",
      "dtype: int64\n"
     ]
    }
   ],
   "source": [
    "# Check missing data for recruitment and Resignation\n",
    "Missing_Recruitment_Resignation_L2 = Recruitment_Resignation_L2.isnull().sum()\n",
    "print(Missing_Recruitment_Resignation_L2)\n",
    "\n",
    "# Check missing data for Vacancy Rate \n",
    "Missing_Vacancy_L2 = Recruitment_and_Resignation_Level2.isnull().sum()\n",
    "print(Missing_Vacancy_L2)"
   ]
  },
  {
   "cell_type": "markdown",
   "metadata": {},
   "source": [
    "## 3. Drop data before 2014"
   ]
  },
  {
   "cell_type": "code",
   "execution_count": 31,
   "metadata": {},
   "outputs": [],
   "source": [
    "def filter_data(df):\n",
    "    df.drop(df[df['quarter'] < '2014'].index, inplace=True)"
   ]
  },
  {
   "cell_type": "code",
   "execution_count": 35,
   "metadata": {},
   "outputs": [
    {
     "data": {
      "text/html": [
       "<div>\n",
       "<style scoped>\n",
       "    .dataframe tbody tr th:only-of-type {\n",
       "        vertical-align: middle;\n",
       "    }\n",
       "\n",
       "    .dataframe tbody tr th {\n",
       "        vertical-align: top;\n",
       "    }\n",
       "\n",
       "    .dataframe thead th {\n",
       "        text-align: right;\n",
       "    }\n",
       "</style>\n",
       "<table border=\"1\" class=\"dataframe\">\n",
       "  <thead>\n",
       "    <tr style=\"text-align: right;\">\n",
       "      <th></th>\n",
       "      <th>quarter</th>\n",
       "      <th>industry1</th>\n",
       "      <th>industry2</th>\n",
       "      <th>recruitment_rate</th>\n",
       "      <th>resignation_rate</th>\n",
       "    </tr>\n",
       "  </thead>\n",
       "  <tbody>\n",
       "    <tr>\n",
       "      <th>1904</th>\n",
       "      <td>2014-Q1</td>\n",
       "      <td>manufacturing</td>\n",
       "      <td>food, beverages and tobacco</td>\n",
       "      <td>2.8</td>\n",
       "      <td>2.7</td>\n",
       "    </tr>\n",
       "    <tr>\n",
       "      <th>1905</th>\n",
       "      <td>2014-Q1</td>\n",
       "      <td>manufacturing</td>\n",
       "      <td>paper,rubber,plastic products and printing</td>\n",
       "      <td>2.1</td>\n",
       "      <td>2.0</td>\n",
       "    </tr>\n",
       "    <tr>\n",
       "      <th>1906</th>\n",
       "      <td>2014-Q1</td>\n",
       "      <td>manufacturing</td>\n",
       "      <td>petroleum, chemical and pharmaceutical products</td>\n",
       "      <td>1.6</td>\n",
       "      <td>0.9</td>\n",
       "    </tr>\n",
       "    <tr>\n",
       "      <th>1907</th>\n",
       "      <td>2014-Q1</td>\n",
       "      <td>manufacturing</td>\n",
       "      <td>fabricated metal products, machinery and equip...</td>\n",
       "      <td>2.1</td>\n",
       "      <td>1.6</td>\n",
       "    </tr>\n",
       "    <tr>\n",
       "      <th>1908</th>\n",
       "      <td>2014-Q1</td>\n",
       "      <td>manufacturing</td>\n",
       "      <td>electronic, computer and optical products</td>\n",
       "      <td>1.4</td>\n",
       "      <td>1.7</td>\n",
       "    </tr>\n",
       "  </tbody>\n",
       "</table>\n",
       "</div>"
      ],
      "text/plain": [
       "      quarter      industry1  \\\n",
       "1904  2014-Q1  manufacturing   \n",
       "1905  2014-Q1  manufacturing   \n",
       "1906  2014-Q1  manufacturing   \n",
       "1907  2014-Q1  manufacturing   \n",
       "1908  2014-Q1  manufacturing   \n",
       "\n",
       "                                              industry2  recruitment_rate  \\\n",
       "1904                        food, beverages and tobacco               2.8   \n",
       "1905         paper,rubber,plastic products and printing               2.1   \n",
       "1906    petroleum, chemical and pharmaceutical products               1.6   \n",
       "1907  fabricated metal products, machinery and equip...               2.1   \n",
       "1908          electronic, computer and optical products               1.4   \n",
       "\n",
       "      resignation_rate  \n",
       "1904               2.7  \n",
       "1905               2.0  \n",
       "1906               0.9  \n",
       "1907               1.6  \n",
       "1908               1.7  "
      ]
     },
     "execution_count": 35,
     "metadata": {},
     "output_type": "execute_result"
    }
   ],
   "source": [
    "filter_data(Recruitment_Resignation_L2)\n",
    "filter_data(Vacancy_L2)\n",
    "Recruitment_Resignation_L2.head()"
   ]
  },
  {
   "cell_type": "markdown",
   "metadata": {},
   "source": [
    "## 4. Merge data"
   ]
  },
  {
   "cell_type": "code",
   "execution_count": 38,
   "metadata": {},
   "outputs": [
    {
     "data": {
      "text/html": [
       "<div>\n",
       "<style scoped>\n",
       "    .dataframe tbody tr th:only-of-type {\n",
       "        vertical-align: middle;\n",
       "    }\n",
       "\n",
       "    .dataframe tbody tr th {\n",
       "        vertical-align: top;\n",
       "    }\n",
       "\n",
       "    .dataframe thead th {\n",
       "        text-align: right;\n",
       "    }\n",
       "</style>\n",
       "<table border=\"1\" class=\"dataframe\">\n",
       "  <thead>\n",
       "    <tr style=\"text-align: right;\">\n",
       "      <th></th>\n",
       "      <th>quarter</th>\n",
       "      <th>industry1</th>\n",
       "      <th>industry2</th>\n",
       "      <th>recruitment_rate</th>\n",
       "      <th>resignation_rate</th>\n",
       "      <th>job_vacancy_rate</th>\n",
       "    </tr>\n",
       "  </thead>\n",
       "  <tbody>\n",
       "    <tr>\n",
       "      <th>0</th>\n",
       "      <td>2014-Q1</td>\n",
       "      <td>manufacturing</td>\n",
       "      <td>food, beverages and tobacco</td>\n",
       "      <td>2.8</td>\n",
       "      <td>2.7</td>\n",
       "      <td>3.1</td>\n",
       "    </tr>\n",
       "    <tr>\n",
       "      <th>1</th>\n",
       "      <td>2014-Q1</td>\n",
       "      <td>manufacturing</td>\n",
       "      <td>paper,rubber,plastic products and printing</td>\n",
       "      <td>2.1</td>\n",
       "      <td>2.0</td>\n",
       "      <td>2.0</td>\n",
       "    </tr>\n",
       "    <tr>\n",
       "      <th>2</th>\n",
       "      <td>2014-Q1</td>\n",
       "      <td>manufacturing</td>\n",
       "      <td>petroleum, chemical and pharmaceutical products</td>\n",
       "      <td>1.6</td>\n",
       "      <td>0.9</td>\n",
       "      <td>2.0</td>\n",
       "    </tr>\n",
       "    <tr>\n",
       "      <th>3</th>\n",
       "      <td>2014-Q1</td>\n",
       "      <td>manufacturing</td>\n",
       "      <td>fabricated metal products, machinery and equip...</td>\n",
       "      <td>2.1</td>\n",
       "      <td>1.6</td>\n",
       "      <td>1.7</td>\n",
       "    </tr>\n",
       "    <tr>\n",
       "      <th>4</th>\n",
       "      <td>2014-Q1</td>\n",
       "      <td>manufacturing</td>\n",
       "      <td>electronic, computer and optical products</td>\n",
       "      <td>1.4</td>\n",
       "      <td>1.7</td>\n",
       "      <td>2.5</td>\n",
       "    </tr>\n",
       "    <tr>\n",
       "      <th>...</th>\n",
       "      <td>...</td>\n",
       "      <td>...</td>\n",
       "      <td>...</td>\n",
       "      <td>...</td>\n",
       "      <td>...</td>\n",
       "      <td>...</td>\n",
       "    </tr>\n",
       "    <tr>\n",
       "      <th>445</th>\n",
       "      <td>2020-Q1</td>\n",
       "      <td>services</td>\n",
       "      <td>real estate services</td>\n",
       "      <td>2.4</td>\n",
       "      <td>1.7</td>\n",
       "      <td>2.6</td>\n",
       "    </tr>\n",
       "    <tr>\n",
       "      <th>446</th>\n",
       "      <td>2020-Q1</td>\n",
       "      <td>services</td>\n",
       "      <td>professional services</td>\n",
       "      <td>2.2</td>\n",
       "      <td>1.4</td>\n",
       "      <td>1.9</td>\n",
       "    </tr>\n",
       "    <tr>\n",
       "      <th>447</th>\n",
       "      <td>2020-Q1</td>\n",
       "      <td>services</td>\n",
       "      <td>administrative and support services</td>\n",
       "      <td>3.7</td>\n",
       "      <td>3.3</td>\n",
       "      <td>2.2</td>\n",
       "    </tr>\n",
       "    <tr>\n",
       "      <th>448</th>\n",
       "      <td>2020-Q1</td>\n",
       "      <td>services</td>\n",
       "      <td>community, social and personal services</td>\n",
       "      <td>1.5</td>\n",
       "      <td>1.1</td>\n",
       "      <td>2.7</td>\n",
       "    </tr>\n",
       "    <tr>\n",
       "      <th>449</th>\n",
       "      <td>2020-Q1</td>\n",
       "      <td>others</td>\n",
       "      <td>others</td>\n",
       "      <td>1.3</td>\n",
       "      <td>1.2</td>\n",
       "      <td>2.0</td>\n",
       "    </tr>\n",
       "  </tbody>\n",
       "</table>\n",
       "<p>450 rows × 6 columns</p>\n",
       "</div>"
      ],
      "text/plain": [
       "     quarter      industry1  \\\n",
       "0    2014-Q1  manufacturing   \n",
       "1    2014-Q1  manufacturing   \n",
       "2    2014-Q1  manufacturing   \n",
       "3    2014-Q1  manufacturing   \n",
       "4    2014-Q1  manufacturing   \n",
       "..       ...            ...   \n",
       "445  2020-Q1       services   \n",
       "446  2020-Q1       services   \n",
       "447  2020-Q1       services   \n",
       "448  2020-Q1       services   \n",
       "449  2020-Q1         others   \n",
       "\n",
       "                                             industry2  recruitment_rate  \\\n",
       "0                          food, beverages and tobacco               2.8   \n",
       "1           paper,rubber,plastic products and printing               2.1   \n",
       "2      petroleum, chemical and pharmaceutical products               1.6   \n",
       "3    fabricated metal products, machinery and equip...               2.1   \n",
       "4            electronic, computer and optical products               1.4   \n",
       "..                                                 ...               ...   \n",
       "445                               real estate services               2.4   \n",
       "446                              professional services               2.2   \n",
       "447                administrative and support services               3.7   \n",
       "448            community, social and personal services               1.5   \n",
       "449                                             others               1.3   \n",
       "\n",
       "     resignation_rate  job_vacancy_rate  \n",
       "0                 2.7               3.1  \n",
       "1                 2.0               2.0  \n",
       "2                 0.9               2.0  \n",
       "3                 1.6               1.7  \n",
       "4                 1.7               2.5  \n",
       "..                ...               ...  \n",
       "445               1.7               2.6  \n",
       "446               1.4               1.9  \n",
       "447               3.3               2.2  \n",
       "448               1.1               2.7  \n",
       "449               1.2               2.0  \n",
       "\n",
       "[450 rows x 6 columns]"
      ]
     },
     "execution_count": 38,
     "metadata": {},
     "output_type": "execute_result"
    }
   ],
   "source": [
    "all_L2_df = Recruitment_Resignation_L2.merge(Vacancy_L2)\n",
    "all_L2_df"
   ]
  }
 ],
 "metadata": {
  "kernelspec": {
   "display_name": "Python 3",
   "language": "python",
   "name": "python3"
  },
  "language_info": {
   "codemirror_mode": {
    "name": "ipython",
    "version": 3
   },
   "file_extension": ".py",
   "mimetype": "text/x-python",
   "name": "python",
   "nbconvert_exporter": "python",
   "pygments_lexer": "ipython3",
   "version": "3.8.3"
  }
 },
 "nbformat": 4,
 "nbformat_minor": 4
}
